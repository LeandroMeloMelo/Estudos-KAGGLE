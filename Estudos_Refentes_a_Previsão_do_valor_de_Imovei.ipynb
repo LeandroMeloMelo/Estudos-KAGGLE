{
  "nbformat": 4,
  "nbformat_minor": 0,
  "metadata": {
    "colab": {
      "name": "Estudos Refentes a Previsão do valor de Imovei.ipynb",
      "provenance": [],
      "collapsed_sections": []
    },
    "kernelspec": {
      "name": "python3",
      "display_name": "Python 3"
    }
  },
  "cells": [
    {
      "cell_type": "markdown",
      "metadata": {
        "id": "KUtNkEK9kViY",
        "colab_type": "text"
      },
      "source": [
        "###Estudos Refentes a Previsão do valor de Imovei\n"
      ]
    },
    {
      "cell_type": "code",
      "metadata": {
        "id": "57q1hdCJbh3B",
        "colab_type": "code",
        "colab": {}
      },
      "source": [
        "#utilizando a base de dados BOSTON"
      ],
      "execution_count": 1,
      "outputs": []
    },
    {
      "cell_type": "code",
      "metadata": {
        "id": "sNAt_Omkk-Ov",
        "colab_type": "code",
        "colab": {}
      },
      "source": [
        "#IMPORTANDO AS BIBLIOTECAS IMOPTANTES\n",
        "import pandas as pd\n",
        "import seaborn as sns\n",
        "import numpy as np\n",
        "import matplotlib.pyplot as plt\n",
        "from sklearn.datasets import load_boston"
      ],
      "execution_count": 5,
      "outputs": []
    },
    {
      "cell_type": "code",
      "metadata": {
        "id": "-Cq7Qt_2dv-w",
        "colab_type": "code",
        "colab": {}
      },
      "source": [
        "#CARREGANDO A BASE DE DADOS BOSTON\n",
        "boston = load_boston()"
      ],
      "execution_count": 10,
      "outputs": []
    },
    {
      "cell_type": "code",
      "metadata": {
        "id": "ed8tiQLtdwCM",
        "colab_type": "code",
        "colab": {
          "base_uri": "https://localhost:8080/",
          "height": 904
        },
        "outputId": "e69a7ca5-fb1e-4d6d-cd1e-f62f63f84193"
      },
      "source": [
        "#imprimindo a base de dados boston\n",
        "print(boston.DESCR)"
      ],
      "execution_count": 13,
      "outputs": [
        {
          "output_type": "stream",
          "text": [
            ".. _boston_dataset:\n",
            "\n",
            "Boston house prices dataset\n",
            "---------------------------\n",
            "\n",
            "**Data Set Characteristics:**  \n",
            "\n",
            "    :Number of Instances: 506 \n",
            "\n",
            "    :Number of Attributes: 13 numeric/categorical predictive. Median Value (attribute 14) is usually the target.\n",
            "\n",
            "    :Attribute Information (in order):\n",
            "        - CRIM     per capita crime rate by town\n",
            "        - ZN       proportion of residential land zoned for lots over 25,000 sq.ft.\n",
            "        - INDUS    proportion of non-retail business acres per town\n",
            "        - CHAS     Charles River dummy variable (= 1 if tract bounds river; 0 otherwise)\n",
            "        - NOX      nitric oxides concentration (parts per 10 million)\n",
            "        - RM       average number of rooms per dwelling\n",
            "        - AGE      proportion of owner-occupied units built prior to 1940\n",
            "        - DIS      weighted distances to five Boston employment centres\n",
            "        - RAD      index of accessibility to radial highways\n",
            "        - TAX      full-value property-tax rate per $10,000\n",
            "        - PTRATIO  pupil-teacher ratio by town\n",
            "        - B        1000(Bk - 0.63)^2 where Bk is the proportion of blacks by town\n",
            "        - LSTAT    % lower status of the population\n",
            "        - MEDV     Median value of owner-occupied homes in $1000's\n",
            "\n",
            "    :Missing Attribute Values: None\n",
            "\n",
            "    :Creator: Harrison, D. and Rubinfeld, D.L.\n",
            "\n",
            "This is a copy of UCI ML housing dataset.\n",
            "https://archive.ics.uci.edu/ml/machine-learning-databases/housing/\n",
            "\n",
            "\n",
            "This dataset was taken from the StatLib library which is maintained at Carnegie Mellon University.\n",
            "\n",
            "The Boston house-price data of Harrison, D. and Rubinfeld, D.L. 'Hedonic\n",
            "prices and the demand for clean air', J. Environ. Economics & Management,\n",
            "vol.5, 81-102, 1978.   Used in Belsley, Kuh & Welsch, 'Regression diagnostics\n",
            "...', Wiley, 1980.   N.B. Various transformations are used in the table on\n",
            "pages 244-261 of the latter.\n",
            "\n",
            "The Boston house-price data has been used in many machine learning papers that address regression\n",
            "problems.   \n",
            "     \n",
            ".. topic:: References\n",
            "\n",
            "   - Belsley, Kuh & Welsch, 'Regression diagnostics: Identifying Influential Data and Sources of Collinearity', Wiley, 1980. 244-261.\n",
            "   - Quinlan,R. (1993). Combining Instance-Based and Model-Based Learning. In Proceedings on the Tenth International Conference of Machine Learning, 236-243, University of Massachusetts, Amherst. Morgan Kaufmann.\n",
            "\n"
          ],
          "name": "stdout"
        }
      ]
    },
    {
      "cell_type": "markdown",
      "metadata": {
        "id": "C_BY5A22rj-M",
        "colab_type": "text"
      },
      "source": [
        "boston_dataset:\n",
        "\n",
        "Boston house prices dataset\n",
        "---------------------------\n",
        "\n",
        "**Data Set Characteristics:**  \n",
        "\n",
        "    :Number of Instances: 506 \n",
        "\n",
        "    :Number of Attributes: 13 numeric/categorical predictive. Median Value (attribute 14) is usually the target.\n"
      ]
    },
    {
      "cell_type": "code",
      "metadata": {
        "id": "L60P-rM2rMFI",
        "colab_type": "code",
        "colab": {
          "base_uri": "https://localhost:8080/",
          "height": 646
        },
        "outputId": "f72da69c-c135-4735-953c-d3114ef1a084"
      },
      "source": [
        "#Median Value (attribute 14) is usually the target.\n",
        "print(boston.target)"
      ],
      "execution_count": 24,
      "outputs": [
        {
          "output_type": "stream",
          "text": [
            "[24.  21.6 34.7 33.4 36.2 28.7 22.9 27.1 16.5 18.9 15.  18.9 21.7 20.4\n",
            " 18.2 19.9 23.1 17.5 20.2 18.2 13.6 19.6 15.2 14.5 15.6 13.9 16.6 14.8\n",
            " 18.4 21.  12.7 14.5 13.2 13.1 13.5 18.9 20.  21.  24.7 30.8 34.9 26.6\n",
            " 25.3 24.7 21.2 19.3 20.  16.6 14.4 19.4 19.7 20.5 25.  23.4 18.9 35.4\n",
            " 24.7 31.6 23.3 19.6 18.7 16.  22.2 25.  33.  23.5 19.4 22.  17.4 20.9\n",
            " 24.2 21.7 22.8 23.4 24.1 21.4 20.  20.8 21.2 20.3 28.  23.9 24.8 22.9\n",
            " 23.9 26.6 22.5 22.2 23.6 28.7 22.6 22.  22.9 25.  20.6 28.4 21.4 38.7\n",
            " 43.8 33.2 27.5 26.5 18.6 19.3 20.1 19.5 19.5 20.4 19.8 19.4 21.7 22.8\n",
            " 18.8 18.7 18.5 18.3 21.2 19.2 20.4 19.3 22.  20.3 20.5 17.3 18.8 21.4\n",
            " 15.7 16.2 18.  14.3 19.2 19.6 23.  18.4 15.6 18.1 17.4 17.1 13.3 17.8\n",
            " 14.  14.4 13.4 15.6 11.8 13.8 15.6 14.6 17.8 15.4 21.5 19.6 15.3 19.4\n",
            " 17.  15.6 13.1 41.3 24.3 23.3 27.  50.  50.  50.  22.7 25.  50.  23.8\n",
            " 23.8 22.3 17.4 19.1 23.1 23.6 22.6 29.4 23.2 24.6 29.9 37.2 39.8 36.2\n",
            " 37.9 32.5 26.4 29.6 50.  32.  29.8 34.9 37.  30.5 36.4 31.1 29.1 50.\n",
            " 33.3 30.3 34.6 34.9 32.9 24.1 42.3 48.5 50.  22.6 24.4 22.5 24.4 20.\n",
            " 21.7 19.3 22.4 28.1 23.7 25.  23.3 28.7 21.5 23.  26.7 21.7 27.5 30.1\n",
            " 44.8 50.  37.6 31.6 46.7 31.5 24.3 31.7 41.7 48.3 29.  24.  25.1 31.5\n",
            " 23.7 23.3 22.  20.1 22.2 23.7 17.6 18.5 24.3 20.5 24.5 26.2 24.4 24.8\n",
            " 29.6 42.8 21.9 20.9 44.  50.  36.  30.1 33.8 43.1 48.8 31.  36.5 22.8\n",
            " 30.7 50.  43.5 20.7 21.1 25.2 24.4 35.2 32.4 32.  33.2 33.1 29.1 35.1\n",
            " 45.4 35.4 46.  50.  32.2 22.  20.1 23.2 22.3 24.8 28.5 37.3 27.9 23.9\n",
            " 21.7 28.6 27.1 20.3 22.5 29.  24.8 22.  26.4 33.1 36.1 28.4 33.4 28.2\n",
            " 22.8 20.3 16.1 22.1 19.4 21.6 23.8 16.2 17.8 19.8 23.1 21.  23.8 23.1\n",
            " 20.4 18.5 25.  24.6 23.  22.2 19.3 22.6 19.8 17.1 19.4 22.2 20.7 21.1\n",
            " 19.5 18.5 20.6 19.  18.7 32.7 16.5 23.9 31.2 17.5 17.2 23.1 24.5 26.6\n",
            " 22.9 24.1 18.6 30.1 18.2 20.6 17.8 21.7 22.7 22.6 25.  19.9 20.8 16.8\n",
            " 21.9 27.5 21.9 23.1 50.  50.  50.  50.  50.  13.8 13.8 15.  13.9 13.3\n",
            " 13.1 10.2 10.4 10.9 11.3 12.3  8.8  7.2 10.5  7.4 10.2 11.5 15.1 23.2\n",
            "  9.7 13.8 12.7 13.1 12.5  8.5  5.   6.3  5.6  7.2 12.1  8.3  8.5  5.\n",
            " 11.9 27.9 17.2 27.5 15.  17.2 17.9 16.3  7.   7.2  7.5 10.4  8.8  8.4\n",
            " 16.7 14.2 20.8 13.4 11.7  8.3 10.2 10.9 11.   9.5 14.5 14.1 16.1 14.3\n",
            " 11.7 13.4  9.6  8.7  8.4 12.8 10.5 17.1 18.4 15.4 10.8 11.8 14.9 12.6\n",
            " 14.1 13.  13.4 15.2 16.1 17.8 14.9 14.1 12.7 13.5 14.9 20.  16.4 17.7\n",
            " 19.5 20.2 21.4 19.9 19.  19.1 19.1 20.1 19.9 19.6 23.2 29.8 13.8 13.3\n",
            " 16.7 12.  14.6 21.4 23.  23.7 25.  21.8 20.6 21.2 19.1 20.6 15.2  7.\n",
            "  8.1 13.6 20.1 21.8 24.5 23.1 19.7 18.3 21.2 17.5 16.8 22.4 20.6 23.9\n",
            " 22.  11.9]\n"
          ],
          "name": "stdout"
        }
      ]
    },
    {
      "cell_type": "code",
      "metadata": {
        "id": "ECQYcgCrdwEh",
        "colab_type": "code",
        "colab": {}
      },
      "source": [
        "#DEPOIS DE TER ANALIZADO AS COLUNAS ACIMA \n",
        "#CRIAREMOS UM DATAFRAME PARA TRABALHARMOS MELHOR\n",
        "#lebrando que o parametro data se refere dados de boston e a features se referea a colunas\n",
        "dataframe = pd.DataFrame(boston.data, columns=boston.feature_names)"
      ],
      "execution_count": 14,
      "outputs": []
    },
    {
      "cell_type": "code",
      "metadata": {
        "id": "AIYN_gGpmZ1J",
        "colab_type": "code",
        "colab": {
          "base_uri": "https://localhost:8080/",
          "height": 255
        },
        "outputId": "9f50070f-4108-46b8-b463-ea9a367d6c46"
      },
      "source": [
        "#visualizando o nosso dataframe\n",
        "print(dataframe)"
      ],
      "execution_count": 15,
      "outputs": [
        {
          "output_type": "stream",
          "text": [
            "        CRIM    ZN  INDUS  CHAS    NOX  ...  RAD    TAX  PTRATIO       B  LSTAT\n",
            "0    0.00632  18.0   2.31   0.0  0.538  ...  1.0  296.0     15.3  396.90   4.98\n",
            "1    0.02731   0.0   7.07   0.0  0.469  ...  2.0  242.0     17.8  396.90   9.14\n",
            "2    0.02729   0.0   7.07   0.0  0.469  ...  2.0  242.0     17.8  392.83   4.03\n",
            "3    0.03237   0.0   2.18   0.0  0.458  ...  3.0  222.0     18.7  394.63   2.94\n",
            "4    0.06905   0.0   2.18   0.0  0.458  ...  3.0  222.0     18.7  396.90   5.33\n",
            "..       ...   ...    ...   ...    ...  ...  ...    ...      ...     ...    ...\n",
            "501  0.06263   0.0  11.93   0.0  0.573  ...  1.0  273.0     21.0  391.99   9.67\n",
            "502  0.04527   0.0  11.93   0.0  0.573  ...  1.0  273.0     21.0  396.90   9.08\n",
            "503  0.06076   0.0  11.93   0.0  0.573  ...  1.0  273.0     21.0  396.90   5.64\n",
            "504  0.10959   0.0  11.93   0.0  0.573  ...  1.0  273.0     21.0  393.45   6.48\n",
            "505  0.04741   0.0  11.93   0.0  0.573  ...  1.0  273.0     21.0  396.90   7.88\n",
            "\n",
            "[506 rows x 13 columns]\n"
          ],
          "name": "stdout"
        }
      ]
    },
    {
      "cell_type": "code",
      "metadata": {
        "id": "4R-gsOcHmZzm",
        "colab_type": "code",
        "colab": {
          "base_uri": "https://localhost:8080/",
          "height": 34
        },
        "outputId": "68cbfa1f-591c-4f37-e5be-2981455f9687"
      },
      "source": [
        "#verificando a quantidade de linhas e colunas do nosso dataframe\n",
        "dataframe.shape"
      ],
      "execution_count": 17,
      "outputs": [
        {
          "output_type": "execute_result",
          "data": {
            "text/plain": [
              "(506, 13)"
            ]
          },
          "metadata": {
            "tags": []
          },
          "execution_count": 17
        }
      ]
    },
    {
      "cell_type": "code",
      "metadata": {
        "id": "6h-yLxSCnchU",
        "colab_type": "code",
        "colab": {
          "base_uri": "https://localhost:8080/",
          "height": 357
        },
        "outputId": "1c6c9820-bac4-4985-c6a8-54dd397bb5e2"
      },
      "source": [
        "#verificando mais inoformaçoes sobre o dataframe\n",
        "dataframe.info()"
      ],
      "execution_count": 18,
      "outputs": [
        {
          "output_type": "stream",
          "text": [
            "<class 'pandas.core.frame.DataFrame'>\n",
            "RangeIndex: 506 entries, 0 to 505\n",
            "Data columns (total 13 columns):\n",
            " #   Column   Non-Null Count  Dtype  \n",
            "---  ------   --------------  -----  \n",
            " 0   CRIM     506 non-null    float64\n",
            " 1   ZN       506 non-null    float64\n",
            " 2   INDUS    506 non-null    float64\n",
            " 3   CHAS     506 non-null    float64\n",
            " 4   NOX      506 non-null    float64\n",
            " 5   RM       506 non-null    float64\n",
            " 6   AGE      506 non-null    float64\n",
            " 7   DIS      506 non-null    float64\n",
            " 8   RAD      506 non-null    float64\n",
            " 9   TAX      506 non-null    float64\n",
            " 10  PTRATIO  506 non-null    float64\n",
            " 11  B        506 non-null    float64\n",
            " 12  LSTAT    506 non-null    float64\n",
            "dtypes: float64(13)\n",
            "memory usage: 51.5 KB\n"
          ],
          "name": "stdout"
        }
      ]
    },
    {
      "cell_type": "code",
      "metadata": {
        "id": "S4q9zQ3znclA",
        "colab_type": "code",
        "colab": {}
      },
      "source": [
        "#CRIANDO UMA COLUNA DE NOME 'MEDV' NO MEU DATAFRAME\n",
        "#E ESSA COLUNA RECEBERA AS TARGET DE BOSTON\n",
        "dataframe['MEDV'] = boston.target"
      ],
      "execution_count": 20,
      "outputs": []
    },
    {
      "cell_type": "code",
      "metadata": {
        "id": "LyV0M1AHncqH",
        "colab_type": "code",
        "colab": {
          "base_uri": "https://localhost:8080/",
          "height": 255
        },
        "outputId": "dedf9c44-fa2b-4c99-c342-fdbcbbff2a1a"
      },
      "source": [
        "#IMPRIMINDO O NOSSO DATAFRAME\n",
        "print(dataframe)"
      ],
      "execution_count": 21,
      "outputs": [
        {
          "output_type": "stream",
          "text": [
            "        CRIM    ZN  INDUS  CHAS    NOX  ...    TAX  PTRATIO       B  LSTAT  MEDV\n",
            "0    0.00632  18.0   2.31   0.0  0.538  ...  296.0     15.3  396.90   4.98  24.0\n",
            "1    0.02731   0.0   7.07   0.0  0.469  ...  242.0     17.8  396.90   9.14  21.6\n",
            "2    0.02729   0.0   7.07   0.0  0.469  ...  242.0     17.8  392.83   4.03  34.7\n",
            "3    0.03237   0.0   2.18   0.0  0.458  ...  222.0     18.7  394.63   2.94  33.4\n",
            "4    0.06905   0.0   2.18   0.0  0.458  ...  222.0     18.7  396.90   5.33  36.2\n",
            "..       ...   ...    ...   ...    ...  ...    ...      ...     ...    ...   ...\n",
            "501  0.06263   0.0  11.93   0.0  0.573  ...  273.0     21.0  391.99   9.67  22.4\n",
            "502  0.04527   0.0  11.93   0.0  0.573  ...  273.0     21.0  396.90   9.08  20.6\n",
            "503  0.06076   0.0  11.93   0.0  0.573  ...  273.0     21.0  396.90   5.64  23.9\n",
            "504  0.10959   0.0  11.93   0.0  0.573  ...  273.0     21.0  393.45   6.48  22.0\n",
            "505  0.04741   0.0  11.93   0.0  0.573  ...  273.0     21.0  396.90   7.88  11.9\n",
            "\n",
            "[506 rows x 14 columns]\n"
          ],
          "name": "stdout"
        }
      ]
    },
    {
      "cell_type": "code",
      "metadata": {
        "id": "eoYlbxkCmZwA",
        "colab_type": "code",
        "colab": {
          "base_uri": "https://localhost:8080/",
          "height": 374
        },
        "outputId": "870ca5bf-96b1-4fe5-bca9-8d51f6ae98b4"
      },
      "source": [
        "#MOSTRANDO NOVAS INFORMAÇÕES DO NOSSO DATAFRAME \n",
        "dataframe.info()"
      ],
      "execution_count": 22,
      "outputs": [
        {
          "output_type": "stream",
          "text": [
            "<class 'pandas.core.frame.DataFrame'>\n",
            "RangeIndex: 506 entries, 0 to 505\n",
            "Data columns (total 14 columns):\n",
            " #   Column   Non-Null Count  Dtype  \n",
            "---  ------   --------------  -----  \n",
            " 0   CRIM     506 non-null    float64\n",
            " 1   ZN       506 non-null    float64\n",
            " 2   INDUS    506 non-null    float64\n",
            " 3   CHAS     506 non-null    float64\n",
            " 4   NOX      506 non-null    float64\n",
            " 5   RM       506 non-null    float64\n",
            " 6   AGE      506 non-null    float64\n",
            " 7   DIS      506 non-null    float64\n",
            " 8   RAD      506 non-null    float64\n",
            " 9   TAX      506 non-null    float64\n",
            " 10  PTRATIO  506 non-null    float64\n",
            " 11  B        506 non-null    float64\n",
            " 12  LSTAT    506 non-null    float64\n",
            " 13  MEDV     506 non-null    float64\n",
            "dtypes: float64(14)\n",
            "memory usage: 55.5 KB\n"
          ],
          "name": "stdout"
        }
      ]
    },
    {
      "cell_type": "code",
      "metadata": {
        "id": "T2zorECIdwHV",
        "colab_type": "code",
        "colab": {}
      },
      "source": [
        "#VAMOS AGORA SELECIONAR OS 16 MAIORES VALORES DA NOSSA COLUNA MEDV\n",
        "top16 = dataframe.nlargest(16, 'MEDV').index"
      ],
      "execution_count": 25,
      "outputs": []
    },
    {
      "cell_type": "code",
      "metadata": {
        "id": "m8YzfPkKqrdM",
        "colab_type": "code",
        "colab": {}
      },
      "source": [
        "#DEPOIS DE SELECIONADO OS 16 MAIORES VALORES VAMOS RETIRA-LOS\n",
        "dataframe.drop(top16, inplace= True)"
      ],
      "execution_count": 26,
      "outputs": []
    },
    {
      "cell_type": "code",
      "metadata": {
        "id": "PhMD33PDqrfH",
        "colab_type": "code",
        "colab": {}
      },
      "source": [
        "#IREMOS CONVERTER A COLUNA DE NOME RM DE FLOAT PARA INT PARA FACILITAR O NOSSO TRABALHO\n",
        "#POIS APARTI DAQUI VAMOS CRIAR A NOSSA BASELINE\n",
        "#A BASELINE NADA MAIS É DO QUE UM 'MARCO OU UMA REFERENCIA' ONDE FAZEMOS AS NOSSAS \n",
        "#ANALISE ONDE DEVEMOS SEMPRE BATER O NOSSO MODELO BASELINE"
      ],
      "execution_count": null,
      "outputs": []
    },
    {
      "cell_type": "code",
      "metadata": {
        "id": "rfxmk0Izqrhe",
        "colab_type": "code",
        "colab": {}
      },
      "source": [
        "#CONVERTENDO A COLUNA RM DO TIPO FLOAT PARA INT\n",
        "dataframe.RM = dataframe.RM.astype(int)"
      ],
      "execution_count": 27,
      "outputs": []
    },
    {
      "cell_type": "code",
      "metadata": {
        "id": "23FgUM83qrj4",
        "colab_type": "code",
        "colab": {
          "base_uri": "https://localhost:8080/",
          "height": 374
        },
        "outputId": "8bf4a104-b2b6-4953-846a-4b46659a5587"
      },
      "source": [
        "#verificando a modificação\n",
        "dataframe.info()"
      ],
      "execution_count": 28,
      "outputs": [
        {
          "output_type": "stream",
          "text": [
            "<class 'pandas.core.frame.DataFrame'>\n",
            "Int64Index: 490 entries, 0 to 505\n",
            "Data columns (total 14 columns):\n",
            " #   Column   Non-Null Count  Dtype  \n",
            "---  ------   --------------  -----  \n",
            " 0   CRIM     490 non-null    float64\n",
            " 1   ZN       490 non-null    float64\n",
            " 2   INDUS    490 non-null    float64\n",
            " 3   CHAS     490 non-null    float64\n",
            " 4   NOX      490 non-null    float64\n",
            " 5   RM       490 non-null    int64  \n",
            " 6   AGE      490 non-null    float64\n",
            " 7   DIS      490 non-null    float64\n",
            " 8   RAD      490 non-null    float64\n",
            " 9   TAX      490 non-null    float64\n",
            " 10  PTRATIO  490 non-null    float64\n",
            " 11  B        490 non-null    float64\n",
            " 12  LSTAT    490 non-null    float64\n",
            " 13  MEDV     490 non-null    float64\n",
            "dtypes: float64(13), int64(1)\n",
            "memory usage: 57.4 KB\n"
          ],
          "name": "stdout"
        }
      ]
    },
    {
      "cell_type": "code",
      "metadata": {
        "id": "ZjT2t2_ZqrmP",
        "colab_type": "code",
        "colab": {
          "base_uri": "https://localhost:8080/",
          "height": 170
        },
        "outputId": "0dbde55a-c8b3-4736-a3ea-ce779884622f"
      },
      "source": [
        "#VERIFICANDO A DESCRIÇÃO DA NOSSA COLUNA RM\n",
        "dataframe.RM.describe()"
      ],
      "execution_count": 31,
      "outputs": [
        {
          "output_type": "execute_result",
          "data": {
            "text/plain": [
              "count    490.000000\n",
              "mean       5.740816\n",
              "std        0.737657\n",
              "min        3.000000\n",
              "25%        5.000000\n",
              "50%        6.000000\n",
              "75%        6.000000\n",
              "max        8.000000\n",
              "Name: RM, dtype: float64"
            ]
          },
          "metadata": {
            "tags": []
          },
          "execution_count": 31
        }
      ]
    },
    {
      "cell_type": "code",
      "metadata": {
        "id": "QYdQtft4qroc",
        "colab_type": "code",
        "colab": {}
      },
      "source": [
        "#VAMOS CRIAR UMA REGRA PARA CLASSIFICAR QUARTOS PEQUENOS, MEDIOS E GRANDE\n",
        "#PARA ISSO VAMOS CRIAR UMA LISTA VAZIA PARA QUE POSSAMOS PREENCHE LOS COM A NOSSA GRAGRINHA\n",
        "categorias = []"
      ],
      "execution_count": 32,
      "outputs": []
    },
    {
      "cell_type": "code",
      "metadata": {
        "id": "Lh65PuGQqrrA",
        "colab_type": "code",
        "colab": {}
      },
      "source": [
        "#PREENCHENDO A NOSSA LISTA VAZIA categorias=[]\n",
        "for i in dataframe.RM.iteritems():\n",
        "    valor = (i[1])\n",
        "    if valor <= 4:\n",
        "        categorias.append('Pequeno')\n",
        "    elif valor < 7:\n",
        "        categorias.append('Medio')\n",
        "    else:\n",
        "        categorias.append('Grande')"
      ],
      "execution_count": 38,
      "outputs": []
    },
    {
      "cell_type": "code",
      "metadata": {
        "id": "k3v-fQLPqrZ3",
        "colab_type": "code",
        "colab": {}
      },
      "source": [
        "#PARA MOSTAR A REGRA QUE FIZEMOS VAMOS CRIAR UMA COLUNA CHAMADA CATEGORIAS\n",
        "dataframe['Categorias'] = categorias"
      ],
      "execution_count": 39,
      "outputs": []
    },
    {
      "cell_type": "code",
      "metadata": {
        "id": "Bqfb1-HRdwJ7",
        "colab_type": "code",
        "colab": {
          "base_uri": "https://localhost:8080/",
          "height": 255
        },
        "outputId": "12ec8bf2-d989-43a7-a2a9-f4988f7e1c56"
      },
      "source": [
        "#VISUALIZANDO A NOSSA CRIAÇÃO\n",
        "print(dataframe)"
      ],
      "execution_count": 40,
      "outputs": [
        {
          "output_type": "stream",
          "text": [
            "        CRIM    ZN  INDUS  CHAS    NOX  ...  PTRATIO       B  LSTAT  MEDV  Categorias\n",
            "0    0.00632  18.0   2.31   0.0  0.538  ...     15.3  396.90   4.98  24.0       Medio\n",
            "1    0.02731   0.0   7.07   0.0  0.469  ...     17.8  396.90   9.14  21.6       Medio\n",
            "2    0.02729   0.0   7.07   0.0  0.469  ...     17.8  392.83   4.03  34.7      Grande\n",
            "3    0.03237   0.0   2.18   0.0  0.458  ...     18.7  394.63   2.94  33.4       Medio\n",
            "4    0.06905   0.0   2.18   0.0  0.458  ...     18.7  396.90   5.33  36.2      Grande\n",
            "..       ...   ...    ...   ...    ...  ...      ...     ...    ...   ...         ...\n",
            "501  0.06263   0.0  11.93   0.0  0.573  ...     21.0  391.99   9.67  22.4       Medio\n",
            "502  0.04527   0.0  11.93   0.0  0.573  ...     21.0  396.90   9.08  20.6       Medio\n",
            "503  0.06076   0.0  11.93   0.0  0.573  ...     21.0  396.90   5.64  23.9       Medio\n",
            "504  0.10959   0.0  11.93   0.0  0.573  ...     21.0  393.45   6.48  22.0       Medio\n",
            "505  0.04741   0.0  11.93   0.0  0.573  ...     21.0  396.90   7.88  11.9       Medio\n",
            "\n",
            "[490 rows x 15 columns]\n"
          ],
          "name": "stdout"
        }
      ]
    },
    {
      "cell_type": "code",
      "metadata": {
        "id": "yTok_sOxdwM4",
        "colab_type": "code",
        "colab": {
          "base_uri": "https://localhost:8080/",
          "height": 85
        },
        "outputId": "1607741e-abee-4ebe-b26b-526df2c3851e"
      },
      "source": [
        "#VERIFICANDO A QUANTIDADE DE CATEGORIAS PEQUENO, MEDIO E GRANDE\n",
        "dataframe.Categorias.value_counts()"
      ],
      "execution_count": 41,
      "outputs": [
        {
          "output_type": "execute_result",
          "data": {
            "text/plain": [
              "Medio      424\n",
              "Grande      52\n",
              "Pequeno     14\n",
              "Name: Categorias, dtype: int64"
            ]
          },
          "metadata": {
            "tags": []
          },
          "execution_count": 41
        }
      ]
    },
    {
      "cell_type": "code",
      "metadata": {
        "id": "tqoEBLqddwPa",
        "colab_type": "code",
        "colab": {}
      },
      "source": [
        "#AGRUPANDO CATEGORIAS E VERIFICANDO A MEDIA\n",
        "medias_categorias = dataframe.groupby(by='Categorias')['MEDV'].mean()"
      ],
      "execution_count": 42,
      "outputs": []
    },
    {
      "cell_type": "code",
      "metadata": {
        "id": "mTIvClBkzhJa",
        "colab_type": "code",
        "colab": {
          "base_uri": "https://localhost:8080/",
          "height": 102
        },
        "outputId": "9b58aa5b-1c25-4837-c63c-8ab6e0159dfc"
      },
      "source": [
        "#verificando a media categorias\n",
        "print(medias_categorias)"
      ],
      "execution_count": 43,
      "outputs": [
        {
          "output_type": "stream",
          "text": [
            "Categorias\n",
            "Grande     35.719231\n",
            "Medio      20.130425\n",
            "Pequeno    14.921429\n",
            "Name: MEDV, dtype: float64\n"
          ],
          "name": "stdout"
        }
      ]
    },
    {
      "cell_type": "code",
      "metadata": {
        "id": "STl4DZFczhNw",
        "colab_type": "code",
        "colab": {}
      },
      "source": [
        "#CRIANDO UM DICIONARIO PARA TERMOS A NOSSA BISELINE COM AS CHAVES PEQUENO, GRANDE E MEDIO\n",
        "dic_baseline = {'Grande': medias_categorias[0], 'Medio': medias_categorias[1], 'Pequeno': medias_categorias[2]}"
      ],
      "execution_count": 52,
      "outputs": []
    },
    {
      "cell_type": "code",
      "metadata": {
        "id": "C6nxCS-LzhQU",
        "colab_type": "code",
        "colab": {
          "base_uri": "https://localhost:8080/",
          "height": 34
        },
        "outputId": "7cff8d27-6bdd-4ed5-dca4-11665be6c488"
      },
      "source": [
        "#IMPRIMINDO O A VARIAVEL DIC_BASELINE\n",
        "print(dic_baseline)"
      ],
      "execution_count": 53,
      "outputs": [
        {
          "output_type": "stream",
          "text": [
            "{'Grande': 35.71923076923077, 'Medio': 20.1304245283019, 'Pequeno': 14.921428571428574}\n"
          ],
          "name": "stdout"
        }
      ]
    },
    {
      "cell_type": "code",
      "metadata": {
        "id": "kl3kCbzdzhS8",
        "colab_type": "code",
        "colab": {}
      },
      "source": [
        "#FUNÇÃO QUE RETORNA A BASELINE\n",
        "def retorna_baseline(num_quartos):\n",
        "    if num_quartos <= 4:\n",
        "        return dic_baseline.get('Pequeno')\n",
        "    elif  num_quartos < 7:\n",
        "        return dic_baseline.get('Medio')\n",
        "    else:\n",
        "        return dic_baseline.get('Grande')"
      ],
      "execution_count": 58,
      "outputs": []
    },
    {
      "cell_type": "code",
      "metadata": {
        "id": "vIr4sNqQdwSO",
        "colab_type": "code",
        "colab": {
          "base_uri": "https://localhost:8080/",
          "height": 34
        },
        "outputId": "cb90f258-4717-4b8f-9722-2f1a39e63252"
      },
      "source": [
        "#CHAMANDO A FUNÇÃO BASELINE\n",
        "retorna_baseline(6)"
      ],
      "execution_count": 62,
      "outputs": [
        {
          "output_type": "execute_result",
          "data": {
            "text/plain": [
              "20.1304245283019"
            ]
          },
          "metadata": {
            "tags": []
          },
          "execution_count": 62
        }
      ]
    },
    {
      "cell_type": "code",
      "metadata": {
        "id": "t7tz2tLp5-sB",
        "colab_type": "code",
        "colab": {
          "base_uri": "https://localhost:8080/",
          "height": 1000
        },
        "outputId": "0ed85b09-0a53-46b0-b930-5174001ee89f"
      },
      "source": [
        "#Verificano o numero de quartos seguido pelo valor médio\n",
        "for i in dataframe.RM.iteritems():\n",
        "    n_quartos = i[1]\n",
        "    print('Numeros de quartos é: {},  Valor Médio é: {} '.format(n_quartos, retorna_baseline(n_quartos)))"
      ],
      "execution_count": 65,
      "outputs": [
        {
          "output_type": "stream",
          "text": [
            "Numeros de quartos é: 6,  Valor Médio é: 20.1304245283019 \n",
            "Numeros de quartos é: 6,  Valor Médio é: 20.1304245283019 \n",
            "Numeros de quartos é: 7,  Valor Médio é: 35.71923076923077 \n",
            "Numeros de quartos é: 6,  Valor Médio é: 20.1304245283019 \n",
            "Numeros de quartos é: 7,  Valor Médio é: 35.71923076923077 \n",
            "Numeros de quartos é: 6,  Valor Médio é: 20.1304245283019 \n",
            "Numeros de quartos é: 6,  Valor Médio é: 20.1304245283019 \n",
            "Numeros de quartos é: 6,  Valor Médio é: 20.1304245283019 \n",
            "Numeros de quartos é: 5,  Valor Médio é: 20.1304245283019 \n",
            "Numeros de quartos é: 6,  Valor Médio é: 20.1304245283019 \n",
            "Numeros de quartos é: 6,  Valor Médio é: 20.1304245283019 \n",
            "Numeros de quartos é: 6,  Valor Médio é: 20.1304245283019 \n",
            "Numeros de quartos é: 5,  Valor Médio é: 20.1304245283019 \n",
            "Numeros de quartos é: 5,  Valor Médio é: 20.1304245283019 \n",
            "Numeros de quartos é: 6,  Valor Médio é: 20.1304245283019 \n",
            "Numeros de quartos é: 5,  Valor Médio é: 20.1304245283019 \n",
            "Numeros de quartos é: 5,  Valor Médio é: 20.1304245283019 \n",
            "Numeros de quartos é: 5,  Valor Médio é: 20.1304245283019 \n",
            "Numeros de quartos é: 5,  Valor Médio é: 20.1304245283019 \n",
            "Numeros de quartos é: 5,  Valor Médio é: 20.1304245283019 \n",
            "Numeros de quartos é: 5,  Valor Médio é: 20.1304245283019 \n",
            "Numeros de quartos é: 5,  Valor Médio é: 20.1304245283019 \n",
            "Numeros de quartos é: 6,  Valor Médio é: 20.1304245283019 \n",
            "Numeros de quartos é: 5,  Valor Médio é: 20.1304245283019 \n",
            "Numeros de quartos é: 5,  Valor Médio é: 20.1304245283019 \n",
            "Numeros de quartos é: 5,  Valor Médio é: 20.1304245283019 \n",
            "Numeros de quartos é: 5,  Valor Médio é: 20.1304245283019 \n",
            "Numeros de quartos é: 6,  Valor Médio é: 20.1304245283019 \n",
            "Numeros de quartos é: 6,  Valor Médio é: 20.1304245283019 \n",
            "Numeros de quartos é: 6,  Valor Médio é: 20.1304245283019 \n",
            "Numeros de quartos é: 5,  Valor Médio é: 20.1304245283019 \n",
            "Numeros de quartos é: 6,  Valor Médio é: 20.1304245283019 \n",
            "Numeros de quartos é: 5,  Valor Médio é: 20.1304245283019 \n",
            "Numeros de quartos é: 5,  Valor Médio é: 20.1304245283019 \n",
            "Numeros de quartos é: 6,  Valor Médio é: 20.1304245283019 \n",
            "Numeros de quartos é: 5,  Valor Médio é: 20.1304245283019 \n",
            "Numeros de quartos é: 5,  Valor Médio é: 20.1304245283019 \n",
            "Numeros de quartos é: 5,  Valor Médio é: 20.1304245283019 \n",
            "Numeros de quartos é: 5,  Valor Médio é: 20.1304245283019 \n",
            "Numeros de quartos é: 6,  Valor Médio é: 20.1304245283019 \n",
            "Numeros de quartos é: 7,  Valor Médio é: 35.71923076923077 \n",
            "Numeros de quartos é: 6,  Valor Médio é: 20.1304245283019 \n",
            "Numeros de quartos é: 6,  Valor Médio é: 20.1304245283019 \n",
            "Numeros de quartos é: 6,  Valor Médio é: 20.1304245283019 \n",
            "Numeros de quartos é: 6,  Valor Médio é: 20.1304245283019 \n",
            "Numeros de quartos é: 5,  Valor Médio é: 20.1304245283019 \n",
            "Numeros de quartos é: 5,  Valor Médio é: 20.1304245283019 \n",
            "Numeros de quartos é: 6,  Valor Médio é: 20.1304245283019 \n",
            "Numeros de quartos é: 5,  Valor Médio é: 20.1304245283019 \n",
            "Numeros de quartos é: 5,  Valor Médio é: 20.1304245283019 \n",
            "Numeros de quartos é: 5,  Valor Médio é: 20.1304245283019 \n",
            "Numeros de quartos é: 6,  Valor Médio é: 20.1304245283019 \n",
            "Numeros de quartos é: 6,  Valor Médio é: 20.1304245283019 \n",
            "Numeros de quartos é: 5,  Valor Médio é: 20.1304245283019 \n",
            "Numeros de quartos é: 5,  Valor Médio é: 20.1304245283019 \n",
            "Numeros de quartos é: 7,  Valor Médio é: 35.71923076923077 \n",
            "Numeros de quartos é: 6,  Valor Médio é: 20.1304245283019 \n",
            "Numeros de quartos é: 6,  Valor Médio é: 20.1304245283019 \n",
            "Numeros de quartos é: 6,  Valor Médio é: 20.1304245283019 \n",
            "Numeros de quartos é: 5,  Valor Médio é: 20.1304245283019 \n",
            "Numeros de quartos é: 5,  Valor Médio é: 20.1304245283019 \n",
            "Numeros de quartos é: 5,  Valor Médio é: 20.1304245283019 \n",
            "Numeros de quartos é: 6,  Valor Médio é: 20.1304245283019 \n",
            "Numeros de quartos é: 6,  Valor Médio é: 20.1304245283019 \n",
            "Numeros de quartos é: 7,  Valor Médio é: 35.71923076923077 \n",
            "Numeros de quartos é: 6,  Valor Médio é: 20.1304245283019 \n",
            "Numeros de quartos é: 5,  Valor Médio é: 20.1304245283019 \n",
            "Numeros de quartos é: 5,  Valor Médio é: 20.1304245283019 \n",
            "Numeros de quartos é: 5,  Valor Médio é: 20.1304245283019 \n",
            "Numeros de quartos é: 5,  Valor Médio é: 20.1304245283019 \n",
            "Numeros de quartos é: 6,  Valor Médio é: 20.1304245283019 \n",
            "Numeros de quartos é: 5,  Valor Médio é: 20.1304245283019 \n",
            "Numeros de quartos é: 6,  Valor Médio é: 20.1304245283019 \n",
            "Numeros de quartos é: 6,  Valor Médio é: 20.1304245283019 \n",
            "Numeros de quartos é: 6,  Valor Médio é: 20.1304245283019 \n",
            "Numeros de quartos é: 6,  Valor Médio é: 20.1304245283019 \n",
            "Numeros de quartos é: 6,  Valor Médio é: 20.1304245283019 \n",
            "Numeros de quartos é: 6,  Valor Médio é: 20.1304245283019 \n",
            "Numeros de quartos é: 6,  Valor Médio é: 20.1304245283019 \n",
            "Numeros de quartos é: 5,  Valor Médio é: 20.1304245283019 \n",
            "Numeros de quartos é: 6,  Valor Médio é: 20.1304245283019 \n",
            "Numeros de quartos é: 6,  Valor Médio é: 20.1304245283019 \n",
            "Numeros de quartos é: 6,  Valor Médio é: 20.1304245283019 \n",
            "Numeros de quartos é: 6,  Valor Médio é: 20.1304245283019 \n",
            "Numeros de quartos é: 6,  Valor Médio é: 20.1304245283019 \n",
            "Numeros de quartos é: 6,  Valor Médio é: 20.1304245283019 \n",
            "Numeros de quartos é: 6,  Valor Médio é: 20.1304245283019 \n",
            "Numeros de quartos é: 6,  Valor Médio é: 20.1304245283019 \n",
            "Numeros de quartos é: 7,  Valor Médio é: 35.71923076923077 \n",
            "Numeros de quartos é: 7,  Valor Médio é: 35.71923076923077 \n",
            "Numeros de quartos é: 6,  Valor Médio é: 20.1304245283019 \n",
            "Numeros de quartos é: 6,  Valor Médio é: 20.1304245283019 \n",
            "Numeros de quartos é: 6,  Valor Médio é: 20.1304245283019 \n",
            "Numeros de quartos é: 6,  Valor Médio é: 20.1304245283019 \n",
            "Numeros de quartos é: 6,  Valor Médio é: 20.1304245283019 \n",
            "Numeros de quartos é: 6,  Valor Médio é: 20.1304245283019 \n",
            "Numeros de quartos é: 6,  Valor Médio é: 20.1304245283019 \n",
            "Numeros de quartos é: 8,  Valor Médio é: 35.71923076923077 \n",
            "Numeros de quartos é: 7,  Valor Médio é: 35.71923076923077 \n",
            "Numeros de quartos é: 7,  Valor Médio é: 35.71923076923077 \n",
            "Numeros de quartos é: 6,  Valor Médio é: 20.1304245283019 \n",
            "Numeros de quartos é: 6,  Valor Médio é: 20.1304245283019 \n",
            "Numeros de quartos é: 6,  Valor Médio é: 20.1304245283019 \n",
            "Numeros de quartos é: 6,  Valor Médio é: 20.1304245283019 \n",
            "Numeros de quartos é: 6,  Valor Médio é: 20.1304245283019 \n",
            "Numeros de quartos é: 5,  Valor Médio é: 20.1304245283019 \n",
            "Numeros de quartos é: 5,  Valor Médio é: 20.1304245283019 \n",
            "Numeros de quartos é: 6,  Valor Médio é: 20.1304245283019 \n",
            "Numeros de quartos é: 6,  Valor Médio é: 20.1304245283019 \n",
            "Numeros de quartos é: 6,  Valor Médio é: 20.1304245283019 \n",
            "Numeros de quartos é: 6,  Valor Médio é: 20.1304245283019 \n",
            "Numeros de quartos é: 6,  Valor Médio é: 20.1304245283019 \n",
            "Numeros de quartos é: 5,  Valor Médio é: 20.1304245283019 \n",
            "Numeros de quartos é: 6,  Valor Médio é: 20.1304245283019 \n",
            "Numeros de quartos é: 6,  Valor Médio é: 20.1304245283019 \n",
            "Numeros de quartos é: 5,  Valor Médio é: 20.1304245283019 \n",
            "Numeros de quartos é: 6,  Valor Médio é: 20.1304245283019 \n",
            "Numeros de quartos é: 6,  Valor Médio é: 20.1304245283019 \n",
            "Numeros de quartos é: 5,  Valor Médio é: 20.1304245283019 \n",
            "Numeros de quartos é: 5,  Valor Médio é: 20.1304245283019 \n",
            "Numeros de quartos é: 5,  Valor Médio é: 20.1304245283019 \n",
            "Numeros de quartos é: 6,  Valor Médio é: 20.1304245283019 \n",
            "Numeros de quartos é: 5,  Valor Médio é: 20.1304245283019 \n",
            "Numeros de quartos é: 5,  Valor Médio é: 20.1304245283019 \n",
            "Numeros de quartos é: 5,  Valor Médio é: 20.1304245283019 \n",
            "Numeros de quartos é: 5,  Valor Médio é: 20.1304245283019 \n",
            "Numeros de quartos é: 5,  Valor Médio é: 20.1304245283019 \n",
            "Numeros de quartos é: 5,  Valor Médio é: 20.1304245283019 \n",
            "Numeros de quartos é: 6,  Valor Médio é: 20.1304245283019 \n",
            "Numeros de quartos é: 5,  Valor Médio é: 20.1304245283019 \n",
            "Numeros de quartos é: 6,  Valor Médio é: 20.1304245283019 \n",
            "Numeros de quartos é: 6,  Valor Médio é: 20.1304245283019 \n",
            "Numeros de quartos é: 6,  Valor Médio é: 20.1304245283019 \n",
            "Numeros de quartos é: 5,  Valor Médio é: 20.1304245283019 \n",
            "Numeros de quartos é: 5,  Valor Médio é: 20.1304245283019 \n",
            "Numeros de quartos é: 6,  Valor Médio é: 20.1304245283019 \n",
            "Numeros de quartos é: 5,  Valor Médio é: 20.1304245283019 \n",
            "Numeros de quartos é: 6,  Valor Médio é: 20.1304245283019 \n",
            "Numeros de quartos é: 5,  Valor Médio é: 20.1304245283019 \n",
            "Numeros de quartos é: 6,  Valor Médio é: 20.1304245283019 \n",
            "Numeros de quartos é: 6,  Valor Médio é: 20.1304245283019 \n",
            "Numeros de quartos é: 5,  Valor Médio é: 20.1304245283019 \n",
            "Numeros de quartos é: 5,  Valor Médio é: 20.1304245283019 \n",
            "Numeros de quartos é: 5,  Valor Médio é: 20.1304245283019 \n",
            "Numeros de quartos é: 4,  Valor Médio é: 14.921428571428574 \n",
            "Numeros de quartos é: 6,  Valor Médio é: 20.1304245283019 \n",
            "Numeros de quartos é: 5,  Valor Médio é: 20.1304245283019 \n",
            "Numeros de quartos é: 4,  Valor Médio é: 14.921428571428574 \n",
            "Numeros de quartos é: 5,  Valor Médio é: 20.1304245283019 \n",
            "Numeros de quartos é: 5,  Valor Médio é: 20.1304245283019 \n",
            "Numeros de quartos é: 6,  Valor Médio é: 20.1304245283019 \n",
            "Numeros de quartos é: 5,  Valor Médio é: 20.1304245283019 \n",
            "Numeros de quartos é: 5,  Valor Médio é: 20.1304245283019 \n",
            "Numeros de quartos é: 5,  Valor Médio é: 20.1304245283019 \n",
            "Numeros de quartos é: 6,  Valor Médio é: 20.1304245283019 \n",
            "Numeros de quartos é: 6,  Valor Médio é: 20.1304245283019 \n",
            "Numeros de quartos é: 5,  Valor Médio é: 20.1304245283019 \n",
            "Numeros de quartos é: 6,  Valor Médio é: 20.1304245283019 \n",
            "Numeros de quartos é: 6,  Valor Médio é: 20.1304245283019 \n",
            "Numeros de quartos é: 6,  Valor Médio é: 20.1304245283019 \n",
            "Numeros de quartos é: 6,  Valor Médio é: 20.1304245283019 \n",
            "Numeros de quartos é: 5,  Valor Médio é: 20.1304245283019 \n",
            "Numeros de quartos é: 6,  Valor Médio é: 20.1304245283019 \n",
            "Numeros de quartos é: 5,  Valor Médio é: 20.1304245283019 \n",
            "Numeros de quartos é: 6,  Valor Médio é: 20.1304245283019 \n",
            "Numeros de quartos é: 6,  Valor Médio é: 20.1304245283019 \n",
            "Numeros de quartos é: 5,  Valor Médio é: 20.1304245283019 \n",
            "Numeros de quartos é: 5,  Valor Médio é: 20.1304245283019 \n",
            "Numeros de quartos é: 5,  Valor Médio é: 20.1304245283019 \n",
            "Numeros de quartos é: 6,  Valor Médio é: 20.1304245283019 \n",
            "Numeros de quartos é: 5,  Valor Médio é: 20.1304245283019 \n",
            "Numeros de quartos é: 6,  Valor Médio é: 20.1304245283019 \n",
            "Numeros de quartos é: 6,  Valor Médio é: 20.1304245283019 \n",
            "Numeros de quartos é: 6,  Valor Médio é: 20.1304245283019 \n",
            "Numeros de quartos é: 6,  Valor Médio é: 20.1304245283019 \n",
            "Numeros de quartos é: 6,  Valor Médio é: 20.1304245283019 \n",
            "Numeros de quartos é: 7,  Valor Médio é: 35.71923076923077 \n",
            "Numeros de quartos é: 6,  Valor Médio é: 20.1304245283019 \n",
            "Numeros de quartos é: 7,  Valor Médio é: 35.71923076923077 \n",
            "Numeros de quartos é: 6,  Valor Médio é: 20.1304245283019 \n",
            "Numeros de quartos é: 5,  Valor Médio é: 20.1304245283019 \n",
            "Numeros de quartos é: 6,  Valor Médio é: 20.1304245283019 \n",
            "Numeros de quartos é: 6,  Valor Médio é: 20.1304245283019 \n",
            "Numeros de quartos é: 6,  Valor Médio é: 20.1304245283019 \n",
            "Numeros de quartos é: 7,  Valor Médio é: 35.71923076923077 \n",
            "Numeros de quartos é: 6,  Valor Médio é: 20.1304245283019 \n",
            "Numeros de quartos é: 6,  Valor Médio é: 20.1304245283019 \n",
            "Numeros de quartos é: 7,  Valor Médio é: 35.71923076923077 \n",
            "Numeros de quartos é: 6,  Valor Médio é: 20.1304245283019 \n",
            "Numeros de quartos é: 6,  Valor Médio é: 20.1304245283019 \n",
            "Numeros de quartos é: 7,  Valor Médio é: 35.71923076923077 \n",
            "Numeros de quartos é: 7,  Valor Médio é: 35.71923076923077 \n",
            "Numeros de quartos é: 7,  Valor Médio é: 35.71923076923077 \n",
            "Numeros de quartos é: 6,  Valor Médio é: 20.1304245283019 \n",
            "Numeros de quartos é: 7,  Valor Médio é: 35.71923076923077 \n",
            "Numeros de quartos é: 6,  Valor Médio é: 20.1304245283019 \n",
            "Numeros de quartos é: 7,  Valor Médio é: 35.71923076923077 \n",
            "Numeros de quartos é: 7,  Valor Médio é: 35.71923076923077 \n",
            "Numeros de quartos é: 5,  Valor Médio é: 20.1304245283019 \n",
            "Numeros de quartos é: 6,  Valor Médio é: 20.1304245283019 \n",
            "Numeros de quartos é: 5,  Valor Médio é: 20.1304245283019 \n",
            "Numeros de quartos é: 6,  Valor Médio é: 20.1304245283019 \n",
            "Numeros de quartos é: 5,  Valor Médio é: 20.1304245283019 \n",
            "Numeros de quartos é: 5,  Valor Médio é: 20.1304245283019 \n",
            "Numeros de quartos é: 5,  Valor Médio é: 20.1304245283019 \n",
            "Numeros de quartos é: 5,  Valor Médio é: 20.1304245283019 \n",
            "Numeros de quartos é: 6,  Valor Médio é: 20.1304245283019 \n",
            "Numeros de quartos é: 5,  Valor Médio é: 20.1304245283019 \n",
            "Numeros de quartos é: 6,  Valor Médio é: 20.1304245283019 \n",
            "Numeros de quartos é: 5,  Valor Médio é: 20.1304245283019 \n",
            "Numeros de quartos é: 6,  Valor Médio é: 20.1304245283019 \n",
            "Numeros de quartos é: 5,  Valor Médio é: 20.1304245283019 \n",
            "Numeros de quartos é: 6,  Valor Médio é: 20.1304245283019 \n",
            "Numeros de quartos é: 6,  Valor Médio é: 20.1304245283019 \n",
            "Numeros de quartos é: 6,  Valor Médio é: 20.1304245283019 \n",
            "Numeros de quartos é: 6,  Valor Médio é: 20.1304245283019 \n",
            "Numeros de quartos é: 6,  Valor Médio é: 20.1304245283019 \n",
            "Numeros de quartos é: 8,  Valor Médio é: 35.71923076923077 \n",
            "Numeros de quartos é: 8,  Valor Médio é: 35.71923076923077 \n",
            "Numeros de quartos é: 7,  Valor Médio é: 35.71923076923077 \n",
            "Numeros de quartos é: 7,  Valor Médio é: 35.71923076923077 \n",
            "Numeros de quartos é: 6,  Valor Médio é: 20.1304245283019 \n",
            "Numeros de quartos é: 5,  Valor Médio é: 20.1304245283019 \n",
            "Numeros de quartos é: 7,  Valor Médio é: 35.71923076923077 \n",
            "Numeros de quartos é: 8,  Valor Médio é: 35.71923076923077 \n",
            "Numeros de quartos é: 8,  Valor Médio é: 35.71923076923077 \n",
            "Numeros de quartos é: 6,  Valor Médio é: 20.1304245283019 \n",
            "Numeros de quartos é: 6,  Valor Médio é: 20.1304245283019 \n",
            "Numeros de quartos é: 6,  Valor Médio é: 20.1304245283019 \n",
            "Numeros de quartos é: 7,  Valor Médio é: 35.71923076923077 \n",
            "Numeros de quartos é: 6,  Valor Médio é: 20.1304245283019 \n",
            "Numeros de quartos é: 6,  Valor Médio é: 20.1304245283019 \n",
            "Numeros de quartos é: 6,  Valor Médio é: 20.1304245283019 \n",
            "Numeros de quartos é: 6,  Valor Médio é: 20.1304245283019 \n",
            "Numeros de quartos é: 6,  Valor Médio é: 20.1304245283019 \n",
            "Numeros de quartos é: 6,  Valor Médio é: 20.1304245283019 \n",
            "Numeros de quartos é: 5,  Valor Médio é: 20.1304245283019 \n",
            "Numeros de quartos é: 5,  Valor Médio é: 20.1304245283019 \n",
            "Numeros de quartos é: 6,  Valor Médio é: 20.1304245283019 \n",
            "Numeros de quartos é: 6,  Valor Médio é: 20.1304245283019 \n",
            "Numeros de quartos é: 6,  Valor Médio é: 20.1304245283019 \n",
            "Numeros de quartos é: 6,  Valor Médio é: 20.1304245283019 \n",
            "Numeros de quartos é: 6,  Valor Médio é: 20.1304245283019 \n",
            "Numeros de quartos é: 6,  Valor Médio é: 20.1304245283019 \n",
            "Numeros de quartos é: 6,  Valor Médio é: 20.1304245283019 \n",
            "Numeros de quartos é: 8,  Valor Médio é: 35.71923076923077 \n",
            "Numeros de quartos é: 6,  Valor Médio é: 20.1304245283019 \n",
            "Numeros de quartos é: 5,  Valor Médio é: 20.1304245283019 \n",
            "Numeros de quartos é: 7,  Valor Médio é: 35.71923076923077 \n",
            "Numeros de quartos é: 7,  Valor Médio é: 35.71923076923077 \n",
            "Numeros de quartos é: 6,  Valor Médio é: 20.1304245283019 \n",
            "Numeros de quartos é: 7,  Valor Médio é: 35.71923076923077 \n",
            "Numeros de quartos é: 7,  Valor Médio é: 35.71923076923077 \n",
            "Numeros de quartos é: 8,  Valor Médio é: 35.71923076923077 \n",
            "Numeros de quartos é: 7,  Valor Médio é: 35.71923076923077 \n",
            "Numeros de quartos é: 7,  Valor Médio é: 35.71923076923077 \n",
            "Numeros de quartos é: 5,  Valor Médio é: 20.1304245283019 \n",
            "Numeros de quartos é: 7,  Valor Médio é: 35.71923076923077 \n",
            "Numeros de quartos é: 7,  Valor Médio é: 35.71923076923077 \n",
            "Numeros de quartos é: 5,  Valor Médio é: 20.1304245283019 \n",
            "Numeros de quartos é: 5,  Valor Médio é: 20.1304245283019 \n",
            "Numeros de quartos é: 6,  Valor Médio é: 20.1304245283019 \n",
            "Numeros de quartos é: 6,  Valor Médio é: 20.1304245283019 \n",
            "Numeros de quartos é: 7,  Valor Médio é: 35.71923076923077 \n",
            "Numeros de quartos é: 6,  Valor Médio é: 20.1304245283019 \n",
            "Numeros de quartos é: 6,  Valor Médio é: 20.1304245283019 \n",
            "Numeros de quartos é: 7,  Valor Médio é: 35.71923076923077 \n",
            "Numeros de quartos é: 6,  Valor Médio é: 20.1304245283019 \n",
            "Numeros de quartos é: 6,  Valor Médio é: 20.1304245283019 \n",
            "Numeros de quartos é: 6,  Valor Médio é: 20.1304245283019 \n",
            "Numeros de quartos é: 7,  Valor Médio é: 35.71923076923077 \n",
            "Numeros de quartos é: 6,  Valor Médio é: 20.1304245283019 \n",
            "Numeros de quartos é: 7,  Valor Médio é: 35.71923076923077 \n",
            "Numeros de quartos é: 7,  Valor Médio é: 35.71923076923077 \n",
            "Numeros de quartos é: 6,  Valor Médio é: 20.1304245283019 \n",
            "Numeros de quartos é: 6,  Valor Médio é: 20.1304245283019 \n",
            "Numeros de quartos é: 6,  Valor Médio é: 20.1304245283019 \n",
            "Numeros de quartos é: 6,  Valor Médio é: 20.1304245283019 \n",
            "Numeros de quartos é: 6,  Valor Médio é: 20.1304245283019 \n",
            "Numeros de quartos é: 6,  Valor Médio é: 20.1304245283019 \n",
            "Numeros de quartos é: 7,  Valor Médio é: 35.71923076923077 \n",
            "Numeros de quartos é: 6,  Valor Médio é: 20.1304245283019 \n",
            "Numeros de quartos é: 6,  Valor Médio é: 20.1304245283019 \n",
            "Numeros de quartos é: 6,  Valor Médio é: 20.1304245283019 \n",
            "Numeros de quartos é: 6,  Valor Médio é: 20.1304245283019 \n",
            "Numeros de quartos é: 6,  Valor Médio é: 20.1304245283019 \n",
            "Numeros de quartos é: 5,  Valor Médio é: 20.1304245283019 \n",
            "Numeros de quartos é: 6,  Valor Médio é: 20.1304245283019 \n",
            "Numeros de quartos é: 7,  Valor Médio é: 35.71923076923077 \n",
            "Numeros de quartos é: 6,  Valor Médio é: 20.1304245283019 \n",
            "Numeros de quartos é: 6,  Valor Médio é: 20.1304245283019 \n",
            "Numeros de quartos é: 6,  Valor Médio é: 20.1304245283019 \n",
            "Numeros de quartos é: 6,  Valor Médio é: 20.1304245283019 \n",
            "Numeros de quartos é: 7,  Valor Médio é: 35.71923076923077 \n",
            "Numeros de quartos é: 6,  Valor Médio é: 20.1304245283019 \n",
            "Numeros de quartos é: 7,  Valor Médio é: 35.71923076923077 \n",
            "Numeros de quartos é: 6,  Valor Médio é: 20.1304245283019 \n",
            "Numeros de quartos é: 6,  Valor Médio é: 20.1304245283019 \n",
            "Numeros de quartos é: 5,  Valor Médio é: 20.1304245283019 \n",
            "Numeros de quartos é: 4,  Valor Médio é: 14.921428571428574 \n",
            "Numeros de quartos é: 6,  Valor Médio é: 20.1304245283019 \n",
            "Numeros de quartos é: 6,  Valor Médio é: 20.1304245283019 \n",
            "Numeros de quartos é: 6,  Valor Médio é: 20.1304245283019 \n",
            "Numeros de quartos é: 6,  Valor Médio é: 20.1304245283019 \n",
            "Numeros de quartos é: 5,  Valor Médio é: 20.1304245283019 \n",
            "Numeros de quartos é: 5,  Valor Médio é: 20.1304245283019 \n",
            "Numeros de quartos é: 5,  Valor Médio é: 20.1304245283019 \n",
            "Numeros de quartos é: 6,  Valor Médio é: 20.1304245283019 \n",
            "Numeros de quartos é: 6,  Valor Médio é: 20.1304245283019 \n",
            "Numeros de quartos é: 6,  Valor Médio é: 20.1304245283019 \n",
            "Numeros de quartos é: 6,  Valor Médio é: 20.1304245283019 \n",
            "Numeros de quartos é: 6,  Valor Médio é: 20.1304245283019 \n",
            "Numeros de quartos é: 5,  Valor Médio é: 20.1304245283019 \n",
            "Numeros de quartos é: 6,  Valor Médio é: 20.1304245283019 \n",
            "Numeros de quartos é: 6,  Valor Médio é: 20.1304245283019 \n",
            "Numeros de quartos é: 6,  Valor Médio é: 20.1304245283019 \n",
            "Numeros de quartos é: 6,  Valor Médio é: 20.1304245283019 \n",
            "Numeros de quartos é: 5,  Valor Médio é: 20.1304245283019 \n",
            "Numeros de quartos é: 6,  Valor Médio é: 20.1304245283019 \n",
            "Numeros de quartos é: 6,  Valor Médio é: 20.1304245283019 \n",
            "Numeros de quartos é: 5,  Valor Médio é: 20.1304245283019 \n",
            "Numeros de quartos é: 6,  Valor Médio é: 20.1304245283019 \n",
            "Numeros de quartos é: 6,  Valor Médio é: 20.1304245283019 \n",
            "Numeros de quartos é: 6,  Valor Médio é: 20.1304245283019 \n",
            "Numeros de quartos é: 6,  Valor Médio é: 20.1304245283019 \n",
            "Numeros de quartos é: 5,  Valor Médio é: 20.1304245283019 \n",
            "Numeros de quartos é: 5,  Valor Médio é: 20.1304245283019 \n",
            "Numeros de quartos é: 6,  Valor Médio é: 20.1304245283019 \n",
            "Numeros de quartos é: 5,  Valor Médio é: 20.1304245283019 \n",
            "Numeros de quartos é: 5,  Valor Médio é: 20.1304245283019 \n",
            "Numeros de quartos é: 7,  Valor Médio é: 35.71923076923077 \n",
            "Numeros de quartos é: 6,  Valor Médio é: 20.1304245283019 \n",
            "Numeros de quartos é: 6,  Valor Médio é: 20.1304245283019 \n",
            "Numeros de quartos é: 6,  Valor Médio é: 20.1304245283019 \n",
            "Numeros de quartos é: 6,  Valor Médio é: 20.1304245283019 \n",
            "Numeros de quartos é: 5,  Valor Médio é: 20.1304245283019 \n",
            "Numeros de quartos é: 6,  Valor Médio é: 20.1304245283019 \n",
            "Numeros de quartos é: 6,  Valor Médio é: 20.1304245283019 \n",
            "Numeros de quartos é: 6,  Valor Médio é: 20.1304245283019 \n",
            "Numeros de quartos é: 6,  Valor Médio é: 20.1304245283019 \n",
            "Numeros de quartos é: 6,  Valor Médio é: 20.1304245283019 \n",
            "Numeros de quartos é: 5,  Valor Médio é: 20.1304245283019 \n",
            "Numeros de quartos é: 6,  Valor Médio é: 20.1304245283019 \n",
            "Numeros de quartos é: 5,  Valor Médio é: 20.1304245283019 \n",
            "Numeros de quartos é: 5,  Valor Médio é: 20.1304245283019 \n",
            "Numeros de quartos é: 6,  Valor Médio é: 20.1304245283019 \n",
            "Numeros de quartos é: 6,  Valor Médio é: 20.1304245283019 \n",
            "Numeros de quartos é: 6,  Valor Médio é: 20.1304245283019 \n",
            "Numeros de quartos é: 6,  Valor Médio é: 20.1304245283019 \n",
            "Numeros de quartos é: 6,  Valor Médio é: 20.1304245283019 \n",
            "Numeros de quartos é: 6,  Valor Médio é: 20.1304245283019 \n",
            "Numeros de quartos é: 5,  Valor Médio é: 20.1304245283019 \n",
            "Numeros de quartos é: 5,  Valor Médio é: 20.1304245283019 \n",
            "Numeros de quartos é: 8,  Valor Médio é: 35.71923076923077 \n",
            "Numeros de quartos é: 3,  Valor Médio é: 14.921428571428574 \n",
            "Numeros de quartos é: 4,  Valor Médio é: 14.921428571428574 \n",
            "Numeros de quartos é: 3,  Valor Médio é: 14.921428571428574 \n",
            "Numeros de quartos é: 4,  Valor Médio é: 14.921428571428574 \n",
            "Numeros de quartos é: 4,  Valor Médio é: 14.921428571428574 \n",
            "Numeros de quartos é: 7,  Valor Médio é: 35.71923076923077 \n",
            "Numeros de quartos é: 6,  Valor Médio é: 20.1304245283019 \n",
            "Numeros de quartos é: 6,  Valor Médio é: 20.1304245283019 \n",
            "Numeros de quartos é: 6,  Valor Médio é: 20.1304245283019 \n",
            "Numeros de quartos é: 6,  Valor Médio é: 20.1304245283019 \n",
            "Numeros de quartos é: 6,  Valor Médio é: 20.1304245283019 \n",
            "Numeros de quartos é: 6,  Valor Médio é: 20.1304245283019 \n",
            "Numeros de quartos é: 5,  Valor Médio é: 20.1304245283019 \n",
            "Numeros de quartos é: 5,  Valor Médio é: 20.1304245283019 \n",
            "Numeros de quartos é: 4,  Valor Médio é: 14.921428571428574 \n",
            "Numeros de quartos é: 5,  Valor Médio é: 20.1304245283019 \n",
            "Numeros de quartos é: 4,  Valor Médio é: 14.921428571428574 \n",
            "Numeros de quartos é: 5,  Valor Médio é: 20.1304245283019 \n",
            "Numeros de quartos é: 4,  Valor Médio é: 14.921428571428574 \n",
            "Numeros de quartos é: 5,  Valor Médio é: 20.1304245283019 \n",
            "Numeros de quartos é: 5,  Valor Médio é: 20.1304245283019 \n",
            "Numeros de quartos é: 6,  Valor Médio é: 20.1304245283019 \n",
            "Numeros de quartos é: 5,  Valor Médio é: 20.1304245283019 \n",
            "Numeros de quartos é: 6,  Valor Médio é: 20.1304245283019 \n",
            "Numeros de quartos é: 5,  Valor Médio é: 20.1304245283019 \n",
            "Numeros de quartos é: 6,  Valor Médio é: 20.1304245283019 \n",
            "Numeros de quartos é: 6,  Valor Médio é: 20.1304245283019 \n",
            "Numeros de quartos é: 5,  Valor Médio é: 20.1304245283019 \n",
            "Numeros de quartos é: 5,  Valor Médio é: 20.1304245283019 \n",
            "Numeros de quartos é: 5,  Valor Médio é: 20.1304245283019 \n",
            "Numeros de quartos é: 5,  Valor Médio é: 20.1304245283019 \n",
            "Numeros de quartos é: 6,  Valor Médio é: 20.1304245283019 \n",
            "Numeros de quartos é: 6,  Valor Médio é: 20.1304245283019 \n",
            "Numeros de quartos é: 5,  Valor Médio é: 20.1304245283019 \n",
            "Numeros de quartos é: 5,  Valor Médio é: 20.1304245283019 \n",
            "Numeros de quartos é: 5,  Valor Médio é: 20.1304245283019 \n",
            "Numeros de quartos é: 4,  Valor Médio é: 14.921428571428574 \n",
            "Numeros de quartos é: 5,  Valor Médio é: 20.1304245283019 \n",
            "Numeros de quartos é: 5,  Valor Médio é: 20.1304245283019 \n",
            "Numeros de quartos é: 6,  Valor Médio é: 20.1304245283019 \n",
            "Numeros de quartos é: 5,  Valor Médio é: 20.1304245283019 \n",
            "Numeros de quartos é: 6,  Valor Médio é: 20.1304245283019 \n",
            "Numeros de quartos é: 4,  Valor Médio é: 14.921428571428574 \n",
            "Numeros de quartos é: 5,  Valor Médio é: 20.1304245283019 \n",
            "Numeros de quartos é: 4,  Valor Médio é: 14.921428571428574 \n",
            "Numeros de quartos é: 6,  Valor Médio é: 20.1304245283019 \n",
            "Numeros de quartos é: 6,  Valor Médio é: 20.1304245283019 \n",
            "Numeros de quartos é: 5,  Valor Médio é: 20.1304245283019 \n",
            "Numeros de quartos é: 5,  Valor Médio é: 20.1304245283019 \n",
            "Numeros de quartos é: 6,  Valor Médio é: 20.1304245283019 \n",
            "Numeros de quartos é: 6,  Valor Médio é: 20.1304245283019 \n",
            "Numeros de quartos é: 6,  Valor Médio é: 20.1304245283019 \n",
            "Numeros de quartos é: 5,  Valor Médio é: 20.1304245283019 \n",
            "Numeros de quartos é: 6,  Valor Médio é: 20.1304245283019 \n",
            "Numeros de quartos é: 5,  Valor Médio é: 20.1304245283019 \n",
            "Numeros de quartos é: 5,  Valor Médio é: 20.1304245283019 \n",
            "Numeros de quartos é: 5,  Valor Médio é: 20.1304245283019 \n",
            "Numeros de quartos é: 6,  Valor Médio é: 20.1304245283019 \n",
            "Numeros de quartos é: 6,  Valor Médio é: 20.1304245283019 \n",
            "Numeros de quartos é: 6,  Valor Médio é: 20.1304245283019 \n",
            "Numeros de quartos é: 6,  Valor Médio é: 20.1304245283019 \n",
            "Numeros de quartos é: 6,  Valor Médio é: 20.1304245283019 \n",
            "Numeros de quartos é: 6,  Valor Médio é: 20.1304245283019 \n",
            "Numeros de quartos é: 6,  Valor Médio é: 20.1304245283019 \n",
            "Numeros de quartos é: 6,  Valor Médio é: 20.1304245283019 \n",
            "Numeros de quartos é: 6,  Valor Médio é: 20.1304245283019 \n",
            "Numeros de quartos é: 6,  Valor Médio é: 20.1304245283019 \n",
            "Numeros de quartos é: 6,  Valor Médio é: 20.1304245283019 \n",
            "Numeros de quartos é: 5,  Valor Médio é: 20.1304245283019 \n",
            "Numeros de quartos é: 5,  Valor Médio é: 20.1304245283019 \n",
            "Numeros de quartos é: 5,  Valor Médio é: 20.1304245283019 \n",
            "Numeros de quartos é: 6,  Valor Médio é: 20.1304245283019 \n",
            "Numeros de quartos é: 6,  Valor Médio é: 20.1304245283019 \n",
            "Numeros de quartos é: 6,  Valor Médio é: 20.1304245283019 \n",
            "Numeros de quartos é: 5,  Valor Médio é: 20.1304245283019 \n",
            "Numeros de quartos é: 6,  Valor Médio é: 20.1304245283019 \n",
            "Numeros de quartos é: 6,  Valor Médio é: 20.1304245283019 \n",
            "Numeros de quartos é: 6,  Valor Médio é: 20.1304245283019 \n",
            "Numeros de quartos é: 6,  Valor Médio é: 20.1304245283019 \n",
            "Numeros de quartos é: 6,  Valor Médio é: 20.1304245283019 \n",
            "Numeros de quartos é: 6,  Valor Médio é: 20.1304245283019 \n",
            "Numeros de quartos é: 6,  Valor Médio é: 20.1304245283019 \n",
            "Numeros de quartos é: 6,  Valor Médio é: 20.1304245283019 \n",
            "Numeros de quartos é: 7,  Valor Médio é: 35.71923076923077 \n",
            "Numeros de quartos é: 6,  Valor Médio é: 20.1304245283019 \n",
            "Numeros de quartos é: 6,  Valor Médio é: 20.1304245283019 \n",
            "Numeros de quartos é: 5,  Valor Médio é: 20.1304245283019 \n",
            "Numeros de quartos é: 5,  Valor Médio é: 20.1304245283019 \n",
            "Numeros de quartos é: 6,  Valor Médio é: 20.1304245283019 \n",
            "Numeros de quartos é: 6,  Valor Médio é: 20.1304245283019 \n",
            "Numeros de quartos é: 6,  Valor Médio é: 20.1304245283019 \n",
            "Numeros de quartos é: 6,  Valor Médio é: 20.1304245283019 \n",
            "Numeros de quartos é: 6,  Valor Médio é: 20.1304245283019 \n",
            "Numeros de quartos é: 6,  Valor Médio é: 20.1304245283019 \n",
            "Numeros de quartos é: 6,  Valor Médio é: 20.1304245283019 \n",
            "Numeros de quartos é: 5,  Valor Médio é: 20.1304245283019 \n",
            "Numeros de quartos é: 5,  Valor Médio é: 20.1304245283019 \n",
            "Numeros de quartos é: 6,  Valor Médio é: 20.1304245283019 \n",
            "Numeros de quartos é: 5,  Valor Médio é: 20.1304245283019 \n",
            "Numeros de quartos é: 5,  Valor Médio é: 20.1304245283019 \n",
            "Numeros de quartos é: 6,  Valor Médio é: 20.1304245283019 \n",
            "Numeros de quartos é: 6,  Valor Médio é: 20.1304245283019 \n",
            "Numeros de quartos é: 6,  Valor Médio é: 20.1304245283019 \n",
            "Numeros de quartos é: 6,  Valor Médio é: 20.1304245283019 \n",
            "Numeros de quartos é: 5,  Valor Médio é: 20.1304245283019 \n",
            "Numeros de quartos é: 6,  Valor Médio é: 20.1304245283019 \n",
            "Numeros de quartos é: 6,  Valor Médio é: 20.1304245283019 \n",
            "Numeros de quartos é: 5,  Valor Médio é: 20.1304245283019 \n",
            "Numeros de quartos é: 6,  Valor Médio é: 20.1304245283019 \n",
            "Numeros de quartos é: 6,  Valor Médio é: 20.1304245283019 \n",
            "Numeros de quartos é: 6,  Valor Médio é: 20.1304245283019 \n",
            "Numeros de quartos é: 6,  Valor Médio é: 20.1304245283019 \n",
            "Numeros de quartos é: 7,  Valor Médio é: 35.71923076923077 \n",
            "Numeros de quartos é: 5,  Valor Médio é: 20.1304245283019 \n",
            "Numeros de quartos é: 5,  Valor Médio é: 20.1304245283019 \n",
            "Numeros de quartos é: 6,  Valor Médio é: 20.1304245283019 \n",
            "Numeros de quartos é: 6,  Valor Médio é: 20.1304245283019 \n",
            "Numeros de quartos é: 5,  Valor Médio é: 20.1304245283019 \n",
            "Numeros de quartos é: 5,  Valor Médio é: 20.1304245283019 \n",
            "Numeros de quartos é: 5,  Valor Médio é: 20.1304245283019 \n",
            "Numeros de quartos é: 5,  Valor Médio é: 20.1304245283019 \n",
            "Numeros de quartos é: 5,  Valor Médio é: 20.1304245283019 \n",
            "Numeros de quartos é: 5,  Valor Médio é: 20.1304245283019 \n",
            "Numeros de quartos é: 5,  Valor Médio é: 20.1304245283019 \n",
            "Numeros de quartos é: 5,  Valor Médio é: 20.1304245283019 \n",
            "Numeros de quartos é: 5,  Valor Médio é: 20.1304245283019 \n",
            "Numeros de quartos é: 5,  Valor Médio é: 20.1304245283019 \n",
            "Numeros de quartos é: 5,  Valor Médio é: 20.1304245283019 \n",
            "Numeros de quartos é: 6,  Valor Médio é: 20.1304245283019 \n",
            "Numeros de quartos é: 5,  Valor Médio é: 20.1304245283019 \n",
            "Numeros de quartos é: 6,  Valor Médio é: 20.1304245283019 \n",
            "Numeros de quartos é: 6,  Valor Médio é: 20.1304245283019 \n",
            "Numeros de quartos é: 6,  Valor Médio é: 20.1304245283019 \n",
            "Numeros de quartos é: 6,  Valor Médio é: 20.1304245283019 \n",
            "Numeros de quartos é: 6,  Valor Médio é: 20.1304245283019 \n",
            "Numeros de quartos é: 6,  Valor Médio é: 20.1304245283019 \n"
          ],
          "name": "stdout"
        }
      ]
    },
    {
      "cell_type": "code",
      "metadata": {
        "id": "dylwQjIr6_1f",
        "colab_type": "code",
        "colab": {}
      },
      "source": [
        ""
      ],
      "execution_count": null,
      "outputs": []
    }
  ]
}